{
  "nbformat": 4,
  "nbformat_minor": 0,
  "metadata": {
    "colab": {
      "provenance": [],
      "authorship_tag": "ABX9TyPBJG6v+LFZ+SlygbV4o9FB",
      "include_colab_link": true
    },
    "kernelspec": {
      "name": "python3",
      "display_name": "Python 3"
    },
    "language_info": {
      "name": "python"
    }
  },
  "cells": [
    {
      "cell_type": "markdown",
      "metadata": {
        "id": "view-in-github",
        "colab_type": "text"
      },
      "source": [
        "<a href=\"https://colab.research.google.com/github/VishalIITB/Colab-Neural-Network-and-Deep-Learning-By-Michael-Nielsen/blob/main/Neural_Network_and_Deep_Learning_By_Michael_Nielsen24.ipynb\" target=\"_parent\"><img src=\"https://colab.research.google.com/assets/colab-badge.svg\" alt=\"Open In Colab\"/></a>"
      ]
    },
    {
      "cell_type": "code",
      "source": [
        "import numpy as np\n",
        "import random\n",
        "import matplotlib.pyplot as plt\n"
      ],
      "metadata": {
        "id": "sngC97S5e8lQ"
      },
      "execution_count": null,
      "outputs": []
    },
    {
      "cell_type": "code",
      "source": [
        "import tensorflow as tf\n",
        "\n",
        "# Load MNIST dataset directly from TensorFlow/Keras\n",
        "(train_images, train_labels), (test_images, test_labels) = tf.keras.datasets.mnist.load_data()\n",
        "\n",
        "# Normalize the images\n",
        "train_images = train_images.reshape(train_images.shape[0], 784, 1) / 255.0\n",
        "test_images = test_images.reshape(test_images.shape[0], 784, 1) / 255.0\n"
      ],
      "metadata": {
        "colab": {
          "base_uri": "https://localhost:8080/"
        },
        "id": "zu34UF9Af2rP",
        "outputId": "c61ebe50-ae4a-40d2-bba6-fa1aed746fa0"
      },
      "execution_count": null,
      "outputs": [
        {
          "output_type": "stream",
          "name": "stdout",
          "text": [
            "Downloading data from https://storage.googleapis.com/tensorflow/tf-keras-datasets/mnist.npz\n",
            "\u001b[1m11490434/11490434\u001b[0m \u001b[32m━━━━━━━━━━━━━━━━━━━━\u001b[0m\u001b[37m\u001b[0m \u001b[1m0s\u001b[0m 0us/step\n"
          ]
        }
      ]
    },
    {
      "cell_type": "code",
      "source": [
        "def vectorized_result(j):\n",
        "    \"\"\"Return a 10-dimensional unit vector with a 1.0 in the j'th position and zeroes elsewhere.\"\"\"\n",
        "    e = np.zeros((10, 1))\n",
        "    e[j] = 1.0\n",
        "    return e\n",
        "\n",
        "# Convert labels into one-hot encoded format\n",
        "train_data = [(x, vectorized_result(y)) for x, y in zip(train_images, train_labels)]\n",
        "test_data = [(x, y) for x, y in zip(test_images, test_labels)]\n"
      ],
      "metadata": {
        "id": "0VLpkgBgf6d8"
      },
      "execution_count": null,
      "outputs": []
    },
    {
      "cell_type": "code",
      "source": [
        "# Initialize the network\n",
        "net = Network([784, 30, 10])\n",
        "\n",
        "# Train the network using Stochastic Gradient Descent (SGD)\n",
        "net.SGD(train_data, epochs=30, mini_batch_size=10, eta=3.0, test_data=test_data)\n"
      ],
      "metadata": {
        "colab": {
          "base_uri": "https://localhost:8080/"
        },
        "id": "0LATqxmgf-PM",
        "outputId": "61935199-ec29-444b-f0eb-f4d6a8fd7c71"
      },
      "execution_count": null,
      "outputs": [
        {
          "output_type": "stream",
          "name": "stdout",
          "text": [
            "Epoch 0: 7379 / 10000\n",
            "Epoch 1: 8206 / 10000\n",
            "Epoch 2: 8431 / 10000\n",
            "Epoch 3: 8471 / 10000\n",
            "Epoch 4: 8496 / 10000\n",
            "Epoch 5: 8526 / 10000\n",
            "Epoch 6: 8485 / 10000\n",
            "Epoch 7: 8556 / 10000\n",
            "Epoch 8: 8549 / 10000\n",
            "Epoch 9: 8566 / 10000\n",
            "Epoch 10: 8564 / 10000\n",
            "Epoch 11: 8570 / 10000\n",
            "Epoch 12: 8590 / 10000\n",
            "Epoch 13: 8582 / 10000\n",
            "Epoch 14: 8592 / 10000\n",
            "Epoch 15: 8563 / 10000\n",
            "Epoch 16: 8594 / 10000\n",
            "Epoch 17: 8615 / 10000\n",
            "Epoch 18: 8604 / 10000\n",
            "Epoch 19: 8611 / 10000\n",
            "Epoch 20: 8593 / 10000\n",
            "Epoch 21: 8594 / 10000\n",
            "Epoch 22: 8603 / 10000\n",
            "Epoch 23: 8618 / 10000\n",
            "Epoch 24: 8606 / 10000\n",
            "Epoch 25: 8630 / 10000\n",
            "Epoch 26: 8609 / 10000\n",
            "Epoch 27: 8608 / 10000\n",
            "Epoch 28: 8595 / 10000\n",
            "Epoch 29: 8600 / 10000\n"
          ]
        }
      ]
    },
    {
      "cell_type": "code",
      "source": [
        "class Network:\n",
        "\n",
        "    def __init__(self, sizes):\n",
        "        # Initialize network architecture: layers sizes\n",
        "        self.num_layers = len(sizes)\n",
        "        self.sizes = sizes\n",
        "        # Initialize biases and weights for hidden and output layers\n",
        "        self.biases = [np.random.randn(y, 1) for y in sizes[1:]]\n",
        "        self.weights = [np.random.randn(y, x) for x, y in zip(sizes[:-1], sizes[1:])]\n",
        "\n",
        "    def sigmoid(self, z):\n",
        "        return 1.0 / (1.0 + np.exp(-z))\n",
        "\n",
        "    def sigmoid_prime(self, z):\n",
        "        return self.sigmoid(z) * (1 - self.sigmoid(z))\n",
        "\n",
        "    def feedforward(self, a):\n",
        "        \"\"\"Return the output of the network for input 'a'.\"\"\"\n",
        "        for b, w in zip(self.biases, self.weights):\n",
        "            a = self.sigmoid(np.dot(w, a) + b)\n",
        "        return a\n",
        "\n",
        "    def SGD(self, training_data, epochs, mini_batch_size, eta, test_data=None):\n",
        "        \"\"\"Train the network using mini-batch stochastic gradient descent.\"\"\"\n",
        "        training_data = list(training_data)\n",
        "        n = len(training_data)\n",
        "\n",
        "        for epoch in range(epochs):\n",
        "            random.shuffle(training_data)\n",
        "            mini_batches = [\n",
        "                training_data[k:k+mini_batch_size]\n",
        "                for k in range(0, n, mini_batch_size)]\n",
        "            for mini_batch in mini_batches:\n",
        "                self.update_mini_batch(mini_batch, eta)\n",
        "\n",
        "            if test_data:\n",
        "                accuracy = self.evaluate(test_data)\n",
        "                print(f\"Epoch {epoch}: {accuracy} / {len(test_data)}\")\n",
        "            else:\n",
        "                print(f\"Epoch {epoch} complete\")\n",
        "\n",
        "    def update_mini_batch(self, mini_batch, eta):\n",
        "        \"\"\"Update the network's weights and biases using backpropagation for each mini-batch.\"\"\"\n",
        "        nabla_b = [np.zeros(b.shape) for b in self.biases]\n",
        "        nabla_w = [np.zeros(w.shape) for w in self.weights]\n",
        "\n",
        "        for x, y in mini_batch:\n",
        "            delta_nabla_b, delta_nabla_w = self.backprop(x, y)\n",
        "            nabla_b = [nb+dnb for nb, dnb in zip(nabla_b, delta_nabla_b)]\n",
        "            nabla_w = [nw+dnw for nw, dnw in zip(nabla_w, delta_nabla_w)]\n",
        "\n",
        "        self.weights = [w - (eta / len(mini_batch)) * nw for w, nw in zip(self.weights, nabla_w)]\n",
        "        self.biases = [b - (eta / len(mini_batch)) * nb for b, nb in zip(self.biases, nabla_b)]\n",
        "\n",
        "    def backprop(self, x, y):\n",
        "        \"\"\"Return the gradient of the cost function with respect to the weights and biases.\"\"\"\n",
        "        nabla_b = [np.zeros(b.shape) for b in self.biases]\n",
        "        nabla_w = [np.zeros(w.shape) for w in self.weights]\n",
        "\n",
        "        # Feedforward\n",
        "        activation = x\n",
        "        activations = [x]\n",
        "        zs = []\n",
        "        for b, w in zip(self.biases, self.weights):\n",
        "            z = np.dot(w, activation) + b\n",
        "            zs.append(z)\n",
        "            activation = self.sigmoid(z)\n",
        "            activations.append(activation)\n",
        "\n",
        "        # Backward pass\n",
        "        delta = self.cost_derivative(activations[-1], y) * self.sigmoid_prime(zs[-1])\n",
        "        nabla_b[-1] = delta\n",
        "        nabla_w[-1] = np.dot(delta, activations[-2].transpose())\n",
        "\n",
        "        for l in range(2, self.num_layers):\n",
        "            z = zs[-l]\n",
        "            sp = self.sigmoid_prime(z)\n",
        "            delta = np.dot(self.weights[-l+1].transpose(), delta) * sp\n",
        "            nabla_b[-l] = delta\n",
        "            nabla_w[-l] = np.dot(delta, activations[-l-1].transpose())\n",
        "\n",
        "        return (nabla_b, nabla_w)\n",
        "\n",
        "    def evaluate(self, test_data):\n",
        "        \"\"\"Return the number of test inputs correctly classified by the network.\"\"\"\n",
        "        test_results = [(np.argmax(self.feedforward(x)), y) for (x, y) in test_data]\n",
        "        return sum(int(x == y) for (x, y) in test_results)\n",
        "\n",
        "    def cost_derivative(self, output_activations, y):\n",
        "        \"\"\"Return the derivative of the cost function with respect to the output activations.\"\"\"\n",
        "        return (output_activations - y)\n"
      ],
      "metadata": {
        "id": "P-un8XkufVeQ"
      },
      "execution_count": null,
      "outputs": []
    },
    {
      "cell_type": "code",
      "source": [
        "def vectorized_result(j):\n",
        "    \"\"\"Return a 10-dimensional unit vector with a 1.0 in the j'th position and zeroes elsewhere.\"\"\"\n",
        "    e = np.zeros((10, 1))\n",
        "    e[int(j)] = 1.0  # Ensure 'j' is treated as an integer\n",
        "    return e\n",
        "\n",
        "# Prepare training and test data\n",
        "training_data = [(x.reshape(784, 1), vectorized_result(y)) for x, y in zip(train_images, train_labels)]\n",
        "test_data = [(x.reshape(784, 1), y) for x, y in zip(test_images, test_labels)]\n"
      ],
      "metadata": {
        "id": "19cXcOHhiLAr"
      },
      "execution_count": null,
      "outputs": []
    },
    {
      "cell_type": "code",
      "source": [
        "import matplotlib.pyplot as plt\n",
        "\n",
        "# Pick a sample image from the training data\n",
        "sample_image = train_images[3]\n",
        "sample_label = train_labels[3]\n",
        "\n",
        "# Reshape it back to 28x28 for viewing\n",
        "plt.imshow(sample_image.reshape(28, 28), cmap='gray')\n",
        "plt.title(f\"Label: {sample_label}\")\n",
        "plt.show()\n"
      ],
      "metadata": {
        "colab": {
          "base_uri": "https://localhost:8080/",
          "height": 452
        },
        "id": "lA5I8ccSjcwX",
        "outputId": "6f3dd7c7-ecb9-41e2-baa5-d053ff9adcc9"
      },
      "execution_count": null,
      "outputs": [
        {
          "output_type": "display_data",
          "data": {
            "text/plain": [
              "<Figure size 640x480 with 1 Axes>"
            ],
            "image/png": "[encoded data removed]"
          },
          "metadata": {}
        }
      ]
    },
    {
      "cell_type": "code",
      "source": [
        "# Print one-hot encoded vector for a sample label\n",
        "print(\"Original label:\", sample_label)\n",
        "print(\"One-hot encoded vector:\", vectorized_result(sample_label))\n"
      ],
      "metadata": {
        "colab": {
          "base_uri": "https://localhost:8080/"
        },
        "id": "UNQ6YhhfjlPm",
        "outputId": "fded88a9-90ac-4da0-88a8-53ff92cf1b9a"
      },
      "execution_count": null,
      "outputs": [
        {
          "output_type": "stream",
          "name": "stdout",
          "text": [
            "Original label: 1\n",
            "One-hot encoded vector: [[0.]\n",
            " [1.]\n",
            " [0.]\n",
            " [0.]\n",
            " [0.]\n",
            " [0.]\n",
            " [0.]\n",
            " [0.]\n",
            " [0.]\n",
            " [0.]]\n"
          ]
        }
      ]
    },
    {
      "cell_type": "code",
      "source": [
        "# Train on a small sample of 100 images\n",
        "small_training_data = training_data[:100]\n",
        "net.SGD(small_training_data, epochs=1, mini_batch_size=10, eta=3.0, test_data=test_data[:10])\n"
      ],
      "metadata": {
        "colab": {
          "base_uri": "https://localhost:8080/"
        },
        "id": "gdI20dIBjzh-",
        "outputId": "bbb6ebff-79fd-437b-c735-694a96e8673a"
      },
      "execution_count": null,
      "outputs": [
        {
          "output_type": "stream",
          "name": "stdout",
          "text": [
            "Epoch 0: 8 / 10\n"
          ]
        }
      ]
    }
  ]
}